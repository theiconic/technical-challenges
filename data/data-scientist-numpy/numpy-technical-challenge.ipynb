{
 "cells": [
  {
   "cell_type": "markdown",
   "id": "3f0be5e7",
   "metadata": {},
   "source": [
    "# Numpy Challenge\n",
    "\n",
    "This challenge involves writing/modifying a function, which accepts a numpy array of fixed size and transforms it into an expected output array.\n",
    "\n",
    "Below we have provided 2 examples along with the expected return value."
   ]
  },
  {
   "cell_type": "code",
   "execution_count": 1,
   "id": "e942f7a6",
   "metadata": {},
   "outputs": [
    {
     "data": {
      "text/plain": [
       "array([0.  , 1.  , 1.3 , 1.3 , 2.  , 1.4 , 0.33, 1.59, 6.  ])"
      ]
     },
     "execution_count": 1,
     "metadata": {},
     "output_type": "execute_result"
    }
   ],
   "source": [
    "import numpy as np\n",
    "def transform(a):\n",
    "    return a\n",
    "\n",
    "transform(np.array([0.,1.0,1.3,1.3,2.,1.4,0.33,1.59,6.]))"
   ]
  },
  {
   "cell_type": "markdown",
   "id": "4999abcb",
   "metadata": {},
   "source": [
    "## Example 1\n",
    "\n",
    "With input: `np.array([0.,1.0,1.3,1.3,2.,1.4,0.33,1.59,6.])`\n",
    "\n",
    "Expected return value:\n",
    "\n",
    "```\n",
    "array([[0.33, 3.18, 6.  ],\n",
    "       [2.6 , 2.  , 2.8 ],\n",
    "       [0.  , 1.  , 2.6 ]], dtype=float16)\n",
    "```"
   ]
  },
  {
   "cell_type": "markdown",
   "id": "4f75627f",
   "metadata": {},
   "source": [
    "## Example 2\n",
    "\n",
    "With input: `np.array([0.9,2.3,1.9,1.0,0.2,1.4,0.33,1.99,3.])`\n",
    "\n",
    "Expected return value:\n",
    "\n",
    "```\n",
    "array([[0.33, 3.98, 3.  ],\n",
    "       [1.  , 0.2 , 2.8 ],\n",
    "       [0.9 , 2.3 , 3.8 ]], dtype=float16)\n",
    "```"
   ]
  }
 ],
 "metadata": {
  "kernelspec": {
   "display_name": "Python 3",
   "language": "python",
   "name": "python3"
  },
  "language_info": {
   "codemirror_mode": {
    "name": "ipython",
    "version": 3
   },
   "file_extension": ".py",
   "mimetype": "text/x-python",
   "name": "python",
   "nbconvert_exporter": "python",
   "pygments_lexer": "ipython3",
   "version": "3.6.9"
  }
 },
 "nbformat": 4,
 "nbformat_minor": 5
}
